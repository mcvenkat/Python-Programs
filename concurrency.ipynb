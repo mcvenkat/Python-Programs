{
 "cells": [
  {
   "cell_type": "markdown",
   "metadata": {},
   "source": [
    "# What is concurrent?\n",
    "\n",
    "> Concurrent describes things that are occurring, or people who are doing something, **at the same time**, such as “concurrent users” of a computer program. \n",
    ">\n",
    ">On the other hand, Consecutive refers to things that are arranged or happen in a sequential order.\n",
    "\n",
    "### Real life example? \n",
    "\n",
    "> Sequential Engineering vs Concurrent Design and Manufacturing\n",
    "\n",
    "![](https://upload.wikimedia.org/wikipedia/commons/d/d6/Waterfall_vs_iterative.JPG)\n"
   ]
  },
  {
   "cell_type": "markdown",
   "metadata": {},
   "source": [
    "# What is concurrent programming/computing?\n",
    "\n",
    "> In a concurrent program, several streams of operations may execute concurrently. Each stream of operations executes as it would in a sequential program except for the fact that streams can communicate and interfere with one another. \n",
    "\n",
    "> Concurrency is a property of a system which enables overlapping of process lifetimes.\n",
    "\n",
    "![](http://amrelroumy.github.io/2013/06/concurrent-execution.jpg)\n",
    "\n",
    "# Concurrency vs Parallelism\n",
    "\n",
    "<img src=\"https://i.imgur.com/qTBGK9L.png\" height=800 width=800>\n"
   ]
  },
  {
   "cell_type": "markdown",
   "metadata": {},
   "source": [
    "# A simple story...\n",
    "\n",
    "--------\n",
    "\n",
    "![](https://i.imgur.com/Pg2uuH2.png)\n",
    "\n",
    "------------\n",
    "\n",
    "![](https://i.imgur.com/uOqlK6P.png)\n",
    "\n",
    "----------\n",
    "\n",
    "![](https://i.imgur.com/nhgBpYN.png)"
   ]
  }
 ],
 "metadata": {
  "kernelspec": {
   "display_name": "Python 3",
   "language": "python",
   "name": "python3"
  },
  "language_info": {
   "codemirror_mode": {
    "name": "ipython",
    "version": 3
   },
   "file_extension": ".py",
   "mimetype": "text/x-python",
   "name": "python",
   "nbconvert_exporter": "python",
   "pygments_lexer": "ipython3",
   "version": "3.6.6"
  }
 },
 "nbformat": 4,
 "nbformat_minor": 2
}
