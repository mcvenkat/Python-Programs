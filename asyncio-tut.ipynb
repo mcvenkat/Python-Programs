{
 "cells": [
  {
   "cell_type": "markdown",
   "metadata": {},
   "source": [
    "# asyncio\n",
    "\n",
    "> To write **concurrent**, **asynchronous**, and **cooperative** code in a sequential style.\n",
    "\n",
    "\n",
    "### Concurrency vs Parallelism\n",
    "\n",
    "<img src=\"https://i.imgur.com/qTBGK9L.png\" height=800 width=800>\n",
    "\n",
    "### Asynchronous vs Synchronous\n",
    "\n",
    "<img src=\"https://i.imgur.com/27Hoqxt.png\" height=800 width=800>\n",
    "\n",
    "### Cooperative vs preemptive\n",
    "\n",
    "<img src=\"https://i.imgur.com/IBL4310.png\" height=800 width=800>\n",
    "\n",
    "> asyncio is used as a foundation for multiple Python asynchronous frameworks that provide high-performance network and web-servers, database connection libraries, distributed task queues, etc."
   ]
  },
  {
   "cell_type": "markdown",
   "metadata": {},
   "source": [
    "## Coroutine\n",
    "\n",
    "> A function which can pause and resume its execution.\n",
    "\n",
    "<img src=\"https://i.imgur.com/ZmHHdzI.png\" height=600 width=400>\n",
    "\n",
    "\n",
    "### How to define a coroutine?\n",
    "\n",
    "```python\n",
    "async def main():\n",
    "    ...\n",
    "    ...\n",
    "```"
   ]
  },
  {
   "cell_type": "code",
   "execution_count": 5,
   "metadata": {},
   "outputs": [],
   "source": [
    "async def main():\n",
    "    print(\"Hello\")"
   ]
  },
  {
   "cell_type": "code",
   "execution_count": 6,
   "metadata": {},
   "outputs": [
    {
     "data": {
      "text/plain": [
       "<coroutine object main at 0x7fe1804811c8>"
      ]
     },
     "execution_count": 6,
     "metadata": {},
     "output_type": "execute_result"
    }
   ],
   "source": [
    "main()"
   ]
  },
  {
   "cell_type": "markdown",
   "metadata": {},
   "source": [
    "### How to pause execution of coroutine?\n",
    "\n",
    "```python\n",
    "async def main():\n",
    "    await awaitable_object\n",
    "    ...\n",
    "    ...\n",
    "```\n",
    "\n",
    "> Awaitable objects are: **coroutines**, **Tasks**, and **Futures**.\n",
    "\n",
    "> **Tasks** are used to schedule coroutines concurrently. When a coroutine is wrapped into a Task with functions like `asyncio.create_task()` the coroutine is automatically scheduled to run soon.\n",
    "\n",
    "> A **Future** is a special low-level awaitable object that represents an eventual result of an asynchronous operation.\n"
   ]
  },
  {
   "cell_type": "markdown",
   "metadata": {},
   "source": [
    "\n",
    "### How to block coroutine for ***x*** seconds?\n",
    "\n",
    "#### Using asyncio.sleep\n",
    "\n",
    "```python\n",
    "async def main():\n",
    "    print(\"Indian\")\n",
    "    await asyncio.sleep(3)\n",
    "    print(\"Pythonista\")\n",
    "```\n",
    "\n",
    "> asyncio.sleep() always suspends the current task, allowing other tasks to run.\n"
   ]
  },
  {
   "cell_type": "markdown",
   "metadata": {},
   "source": [
    "### How to execute coroutine?\n",
    "\n",
    "#### Using Event Loop\n",
    "\n",
    "> The **event loop** is the core of every asyncio application. It runs in a thread (typically the main thread) and executes all callbacks and Tasks in its thread.\n",
    "\n",
    "```python\n",
    "loop = asyncio.get_event_loop()\n",
    "loop.run_until_complete(my_coroutine())\n",
    "loop.close()\n",
    "```\n",
    "\n",
    "#### A shortcut... (since Python 3.7)\n",
    "\n",
    "```python\n",
    "asyncio.run(my_coroutine())\n",
    "```\n"
   ]
  },
  {
   "cell_type": "markdown",
   "metadata": {},
   "source": [
    "### How to execute coroutines concurrently?\n",
    "\n",
    "#### Using asyncio.gather\n",
    "\n",
    "```python\n",
    "import asyncio\n",
    "\n",
    "async def main():\n",
    "    await asyncio.gather(\n",
    "        coro1(),\n",
    "        coro2(),\n",
    "        coro3()\n",
    "    )\n",
    "\n",
    "asyncio.run(main())\n",
    "```"
   ]
  }
 ],
 "metadata": {
  "kernelspec": {
   "display_name": "pyenv37",
   "language": "python",
   "name": "pyenv37"
  },
  "language_info": {
   "codemirror_mode": {
    "name": "ipython",
    "version": 3
   },
   "file_extension": ".py",
   "mimetype": "text/x-python",
   "name": "python",
   "nbconvert_exporter": "python",
   "pygments_lexer": "ipython3",
   "version": "3.7.0"
  }
 },
 "nbformat": 4,
 "nbformat_minor": 2
}
